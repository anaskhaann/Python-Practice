{
 "cells": [
  {
   "cell_type": "markdown",
   "id": "4bd3e99d",
   "metadata": {},
   "source": [
    "## Iteration\n",
    "\n",
    "Iteration is a general term for taking each item of something, one after another. Any time you use a loop, explicit or implicit, to go over a group of items, that is iteration.\n",
    "\n",
    "The process of traversing object one by one.\n"
   ]
  },
  {
   "cell_type": "code",
   "execution_count": null,
   "id": "829180c6",
   "metadata": {},
   "outputs": [
    {
     "name": "stdout",
     "output_type": "stream",
     "text": [
      "1\n",
      "2\n",
      "3\n",
      "4\n"
     ]
    }
   ],
   "source": [
    "# Example\n",
    "num=[1,2,3,4]\n",
    "\n",
    "for i in num:\n",
    "    print(i)"
   ]
  },
  {
   "cell_type": "markdown",
   "id": "7c07db05",
   "metadata": {},
   "source": [
    "## Iterator\n",
    "\n",
    "An iterator is an object that allows the programmer to traverse through a sequence of data without having to store the entire data in the memory.\n",
    "\n",
    "Iterator is the object(or the reason) by which iteration is possible.\n"
   ]
  },
  {
   "cell_type": "code",
   "execution_count": null,
   "id": "09dc55a2",
   "metadata": {},
   "outputs": [
    {
     "name": "stdout",
     "output_type": "stream",
     "text": [
      "782.2109375 MB\n"
     ]
    }
   ],
   "source": [
    "# Example\n",
    "\n",
    "# Method 1\n",
    "l = [x for x in range(1,100)]\n",
    "\n",
    "# for i in l:\n",
    "#     print(i*2)\n",
    "\n",
    "import sys\n",
    "\n",
    "print(sys.getsizeof(l)/1024,\"MB\")"
   ]
  },
  {
   "cell_type": "code",
   "execution_count": null,
   "id": "b1dc1246",
   "metadata": {},
   "outputs": [
    {
     "name": "stdout",
     "output_type": "stream",
     "text": [
      "48 MB\n"
     ]
    }
   ],
   "source": [
    "# Method 2: Using iterator\n",
    "\n",
    "x= range(1,100)\n",
    "\n",
    "# for i in x:\n",
    "#     print(i*2)\n",
    "\n",
    "print(sys.getsizeof(x),\"MB\")"
   ]
  },
  {
   "cell_type": "markdown",
   "id": "b58ead23",
   "metadata": {},
   "source": [
    "## Iterable\n",
    "\n",
    "Iterable is an object which one can iterate over.\n",
    "\n",
    "It generates an iterator when passed to `iter()` method\n"
   ]
  },
  {
   "cell_type": "code",
   "execution_count": 12,
   "id": "62c152e5",
   "metadata": {},
   "outputs": [
    {
     "data": {
      "text/plain": [
       "list_iterator"
      ]
     },
     "execution_count": 12,
     "metadata": {},
     "output_type": "execute_result"
    }
   ],
   "source": [
    "L =[1,2,3]\n",
    "\n",
    "# L is an iterable\n",
    "type(L)\n",
    "\n",
    "\n",
    "type(iter(L))\n",
    "# iter(L) --> iterator"
   ]
  },
  {
   "cell_type": "markdown",
   "id": "32e453ef",
   "metadata": {},
   "source": [
    "### Points to Remember\n",
    "\n",
    "- Every iterator is also iterable.\n",
    "- Not all iterables are iterators.\n",
    "\n",
    "### Trick\n",
    "\n",
    "- Every iterable has an `iter` function in it.\n",
    "- Every iterator has an `iter` as well as `next` functions in it.\n"
   ]
  },
  {
   "cell_type": "code",
   "execution_count": null,
   "id": "c7f43c73",
   "metadata": {},
   "outputs": [
    {
     "name": "stdout",
     "output_type": "stream",
     "text": [
      "['__abs__', '__add__', '__and__', '__bool__', '__ceil__', '__class__', '__delattr__', '__dir__', '__divmod__', '__doc__', '__eq__', '__float__', '__floor__', '__floordiv__', '__format__', '__ge__', '__getattribute__', '__getnewargs__', '__getstate__', '__gt__', '__hash__', '__index__', '__init__', '__init_subclass__', '__int__', '__invert__', '__le__', '__lshift__', '__lt__', '__mod__', '__mul__', '__ne__', '__neg__', '__new__', '__or__', '__pos__', '__pow__', '__radd__', '__rand__', '__rdivmod__', '__reduce__', '__reduce_ex__', '__repr__', '__rfloordiv__', '__rlshift__', '__rmod__', '__rmul__', '__ror__', '__round__', '__rpow__', '__rrshift__', '__rshift__', '__rsub__', '__rtruediv__', '__rxor__', '__setattr__', '__sizeof__', '__str__', '__sub__', '__subclasshook__', '__truediv__', '__trunc__', '__xor__', 'as_integer_ratio', 'bit_count', 'bit_length', 'conjugate', 'denominator', 'from_bytes', 'imag', 'is_integer', 'numerator', 'real', 'to_bytes']\n",
      "['__add__', '__class__', '__class_getitem__', '__contains__', '__delattr__', '__dir__', '__doc__', '__eq__', '__format__', '__ge__', '__getattribute__', '__getitem__', '__getnewargs__', '__getstate__', '__gt__', '__hash__', '__init__', '__init_subclass__', '__iter__', '__le__', '__len__', '__lt__', '__mul__', '__ne__', '__new__', '__reduce__', '__reduce_ex__', '__repr__', '__rmul__', '__setattr__', '__sizeof__', '__str__', '__subclasshook__', 'count', 'index']\n",
      "['__and__', '__class__', '__class_getitem__', '__contains__', '__delattr__', '__dir__', '__doc__', '__eq__', '__format__', '__ge__', '__getattribute__', '__getstate__', '__gt__', '__hash__', '__iand__', '__init__', '__init_subclass__', '__ior__', '__isub__', '__iter__', '__ixor__', '__le__', '__len__', '__lt__', '__ne__', '__new__', '__or__', '__rand__', '__reduce__', '__reduce_ex__', '__repr__', '__ror__', '__rsub__', '__rxor__', '__setattr__', '__sizeof__', '__str__', '__sub__', '__subclasshook__', '__xor__', 'add', 'clear', 'copy', 'difference', 'difference_update', 'discard', 'intersection', 'intersection_update', 'isdisjoint', 'issubset', 'issuperset', 'pop', 'remove', 'symmetric_difference', 'symmetric_difference_update', 'union', 'update']\n",
      "['__class__', '__class_getitem__', '__contains__', '__delattr__', '__delitem__', '__dir__', '__doc__', '__eq__', '__format__', '__ge__', '__getattribute__', '__getitem__', '__getstate__', '__gt__', '__hash__', '__init__', '__init_subclass__', '__ior__', '__iter__', '__le__', '__len__', '__lt__', '__ne__', '__new__', '__or__', '__reduce__', '__reduce_ex__', '__repr__', '__reversed__', '__ror__', '__setattr__', '__setitem__', '__sizeof__', '__str__', '__subclasshook__', 'clear', 'copy', 'fromkeys', 'get', 'items', 'keys', 'pop', 'popitem', 'setdefault', 'update', 'values']\n"
     ]
    }
   ],
   "source": [
    "# Check for iterable --> They have iter method\n",
    "a = 2\n",
    "t = (1,2,3)\n",
    "s = {2,3,4,5}\n",
    "d = {1:\"name\", 2:\"age\"}\n",
    "\n",
    "print(dir(a))\n",
    "print(dir(t))\n",
    "print(dir(s))\n",
    "print(dir(d))"
   ]
  },
  {
   "cell_type": "code",
   "execution_count": null,
   "id": "9de5d8c6",
   "metadata": {},
   "outputs": [
    {
     "name": "stdout",
     "output_type": "stream",
     "text": [
      "['__add__', '__class__', '__class_getitem__', '__contains__', '__delattr__', '__delitem__', '__dir__', '__doc__', '__eq__', '__format__', '__ge__', '__getattribute__', '__getitem__', '__getstate__', '__gt__', '__hash__', '__iadd__', '__imul__', '__init__', '__init_subclass__', '__iter__', '__le__', '__len__', '__lt__', '__mul__', '__ne__', '__new__', '__reduce__', '__reduce_ex__', '__repr__', '__reversed__', '__rmul__', '__setattr__', '__setitem__', '__sizeof__', '__str__', '__subclasshook__', 'append', 'clear', 'copy', 'count', 'extend', 'index', 'insert', 'pop', 'remove', 'reverse', 'sort']\n",
      "['__class__', '__delattr__', '__dir__', '__doc__', '__eq__', '__format__', '__ge__', '__getattribute__', '__getstate__', '__gt__', '__hash__', '__init__', '__init_subclass__', '__iter__', '__le__', '__length_hint__', '__lt__', '__ne__', '__new__', '__next__', '__reduce__', '__reduce_ex__', '__repr__', '__setattr__', '__setstate__', '__sizeof__', '__str__', '__subclasshook__']\n"
     ]
    }
   ],
   "source": [
    "# Check for iterator --> They have iter as well as next\n",
    "\n",
    "x = [1,2,3]\n",
    "\n",
    "print(dir(x))\n",
    "\n",
    "y =iter(x)\n",
    "\n",
    "print(dir(y))"
   ]
  },
  {
   "cell_type": "markdown",
   "id": "c616acf5",
   "metadata": {},
   "source": [
    "#### Understands Working of Loop\n",
    "\n",
    "We need an iterable first then\n",
    "\n",
    "1. Fetch the iterator\n",
    "\n",
    "   - By doing iter(iterable_which_we_pass)\n",
    "\n",
    "2. Step 2\n",
    "   - doing next(iterator) until we get Stop Iteration error\n"
   ]
  },
  {
   "cell_type": "code",
   "execution_count": null,
   "id": "e8ee772a",
   "metadata": {},
   "outputs": [
    {
     "name": "stdout",
     "output_type": "stream",
     "text": [
      "1\n",
      "2\n",
      "3\n",
      "4\n"
     ]
    },
    {
     "ename": "StopIteration",
     "evalue": "",
     "output_type": "error",
     "traceback": [
      "\u001b[31m---------------------------------------------------------------------------\u001b[39m",
      "\u001b[31mStopIteration\u001b[39m                             Traceback (most recent call last)",
      "\u001b[36mCell\u001b[39m\u001b[36m \u001b[39m\u001b[32mIn[22]\u001b[39m\u001b[32m, line 12\u001b[39m\n\u001b[32m     10\u001b[39m \u001b[38;5;28mprint\u001b[39m(\u001b[38;5;28mnext\u001b[39m(iter_num))\n\u001b[32m     11\u001b[39m \u001b[38;5;28mprint\u001b[39m(\u001b[38;5;28mnext\u001b[39m(iter_num))\n\u001b[32m---> \u001b[39m\u001b[32m12\u001b[39m \u001b[38;5;28mprint\u001b[39m(\u001b[38;5;28;43mnext\u001b[39;49m\u001b[43m(\u001b[49m\u001b[43miter_num\u001b[49m\u001b[43m)\u001b[49m)\n",
      "\u001b[31mStopIteration\u001b[39m: "
     ]
    }
   ],
   "source": [
    "# We have iterable\n",
    "num = [1,2,3,4]\n",
    "\n",
    "# fetch the iterator\n",
    "iter_num = iter(num)\n",
    "\n",
    "# Doing Next(iterator)\n",
    "print(next(iter_num))\n",
    "print(next(iter_num))\n",
    "print(next(iter_num))\n",
    "print(next(iter_num))\n",
    "print(next(iter_num)) #here we will break from the loop"
   ]
  },
  {
   "cell_type": "markdown",
   "id": "fc2c6aaa",
   "metadata": {},
   "source": [
    "#### Creating Our Own For loop\n"
   ]
  },
  {
   "cell_type": "code",
   "execution_count": 23,
   "id": "b6f95ec3",
   "metadata": {},
   "outputs": [],
   "source": [
    "def mera_khudka_for_loop(iterable):\n",
    "\n",
    "    iterator = iter(iterable)\n",
    "\n",
    "    while True:\n",
    "        try:\n",
    "            print(next(iterator))\n",
    "        except StopIteration:\n",
    "            break            "
   ]
  },
  {
   "cell_type": "code",
   "execution_count": 24,
   "id": "ec75b2f8",
   "metadata": {},
   "outputs": [
    {
     "name": "stdout",
     "output_type": "stream",
     "text": [
      "M\n",
      "y\n",
      " \n",
      "n\n",
      "a\n",
      "m\n",
      "e\n",
      " \n",
      "i\n",
      "s\n",
      " \n",
      "K\n",
      "h\n",
      "a\n",
      "n\n"
     ]
    }
   ],
   "source": [
    "name = \"My name is Khan\"\n",
    "\n",
    "mera_khudka_for_loop(name)"
   ]
  },
  {
   "cell_type": "markdown",
   "id": "63224e72",
   "metadata": {},
   "source": [
    "If we run `iter()` on iter object we will be get the same memory address, because iterable k upar iter() chalane pe iterator milta hai and us iterator pe iter() chalane se jo iterator aapko milta hai woh khud hi hota hai.\n"
   ]
  },
  {
   "cell_type": "code",
   "execution_count": 25,
   "id": "14333af7",
   "metadata": {},
   "outputs": [
    {
     "name": "stdout",
     "output_type": "stream",
     "text": [
      "2122673500176 Address of Iterator 1\n",
      "2122673500176 Address of Iterator 2\n"
     ]
    }
   ],
   "source": [
    "# Example\n",
    "\n",
    "num = [1,2,3,4,5]\n",
    "\n",
    "iter_obj = iter(num)\n",
    "\n",
    "print(id(iter_obj), \"Address of Iterator 1\")\n",
    "\n",
    "\n",
    "iter_obj_2 = iter(iter_obj)\n",
    "\n",
    "print(id(iter_obj_2), \"Address of Iterator 2\")\n"
   ]
  },
  {
   "cell_type": "markdown",
   "id": "e8e74348",
   "metadata": {},
   "source": [
    "This is used when we have created our own object and we want to make that object iterable and loop on it. These knowledge will be usefull there.\n"
   ]
  },
  {
   "cell_type": "markdown",
   "id": "2f2112fe",
   "metadata": {},
   "source": [
    "#### Lets create our own_range() function\n"
   ]
  },
  {
   "cell_type": "code",
   "execution_count": null,
   "id": "7b5f57e5",
   "metadata": {},
   "outputs": [],
   "source": [
    "# iterable class\n",
    "\"\"\"\n",
    "We know that range has start and end params.\n",
    "We know that iterable must have iter() methods\n",
    "\"\"\"\n",
    "class mera_range:\n",
    "\n",
    "    def __init__(self,start,end):\n",
    "        self.start = start\n",
    "        self.end = end\n",
    "    \n",
    "    def __iter__(self):\n",
    "        return mera_range_iterator(self) #to give iterator start and end. This will return an iterable_object"
   ]
  },
  {
   "cell_type": "code",
   "execution_count": 30,
   "id": "bb4aa98d",
   "metadata": {},
   "outputs": [],
   "source": [
    "# Iterator class\n",
    "\"\"\"\n",
    "Starting and ending number k bich mai loop chalana hai.\n",
    "We know that iterator will return itself if we pass it again to iter() method.\n",
    "\"\"\"\n",
    "class mera_range_iterator:\n",
    "    \n",
    "    def __init__(self,iterable_obj):\n",
    "        self.iterable = iterable_obj\n",
    "\n",
    "    def __iter__(self):\n",
    "        return self\n",
    "\n",
    "    def __next__(self):\n",
    "        \n",
    "        if self.iterable.start >= self.iterable.end:\n",
    "            raise StopIteration\n",
    "        \n",
    "        current = self.iterable.start\n",
    "        self.iterable.start += 1\n",
    "        return current "
   ]
  },
  {
   "cell_type": "code",
   "execution_count": 32,
   "id": "ff265313",
   "metadata": {},
   "outputs": [
    {
     "data": {
      "text/plain": [
       "__main__.mera_range"
      ]
     },
     "execution_count": 32,
     "metadata": {},
     "output_type": "execute_result"
    }
   ],
   "source": [
    "x = mera_range(1,11)\n",
    "\n",
    "type(x)"
   ]
  },
  {
   "cell_type": "code",
   "execution_count": 33,
   "id": "73deed02",
   "metadata": {},
   "outputs": [
    {
     "data": {
      "text/plain": [
       "__main__.mera_range_iterator"
      ]
     },
     "execution_count": 33,
     "metadata": {},
     "output_type": "execute_result"
    }
   ],
   "source": [
    "y =mera_range_iterator(x)\n",
    "\n",
    "type(y)"
   ]
  },
  {
   "cell_type": "markdown",
   "id": "b6531083",
   "metadata": {},
   "source": [
    "##### Application\n",
    "\n",
    "- In deep learning when we want to process stream of data without loading the entire data in the memory. We can do it one by one with the help of the iterators. Because iterator at one point store one item in the memory rather than loading the data.\n"
   ]
  }
 ],
 "metadata": {
  "kernelspec": {
   "display_name": "Python 3",
   "language": "python",
   "name": "python3"
  },
  "language_info": {
   "codemirror_mode": {
    "name": "ipython",
    "version": 3
   },
   "file_extension": ".py",
   "mimetype": "text/x-python",
   "name": "python",
   "nbconvert_exporter": "python",
   "pygments_lexer": "ipython3",
   "version": "3.12.6"
  }
 },
 "nbformat": 4,
 "nbformat_minor": 5
}
