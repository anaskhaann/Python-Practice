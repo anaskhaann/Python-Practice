{
  "cells": [
    {
      "cell_type": "markdown",
      "metadata": {
        "id": "JUmWTebLbjwN"
      },
      "source": [
        "### Write OOP classes to handle the following scenarios:\n",
        "\n",
        "- A user can create and view 2D coordinates\n",
        "- A user can find out the distance between 2 coordinates\n",
        "- A user can find find the distance of a coordinate from origin\n",
        "- A user can check if a point lies on a given line\n",
        "- A user can find the distance between a given 2D point and a given line\n",
        "\n"
      ]
    },
    {
      "cell_type": "code",
      "execution_count": null,
      "metadata": {
        "id": "2jfIFsMocjN3"
      },
      "outputs": [],
      "source": [
        "class Point:\n",
        "\n",
        "  def __init__(self,x,y):\n",
        "    self.x_cod = x\n",
        "    self.y_cod = y\n",
        "\n",
        "  def __str__(self):\n",
        "    return '<{},{}>'.format(self.x_cod,self.y_cod)\n",
        "\n",
        "  def euclidean_distance(self,other):\n",
        "    return ((self.x_cod - other.x_cod)**2 + (self.y_cod - other.y_cod)**2)**0.5\n",
        "\n",
        "  def distance_from_origin(self):\n",
        "    return (self.x_cod**2 + self.y_cod**2)**0.5\n",
        "    # return self.euclidean_distance(Point(0,0))\n",
        "\n",
        "\n",
        "class Line:\n",
        "\n",
        "  def __init__(self,A,B,C):\n",
        "    self.A = A\n",
        "    self.B = B\n",
        "    self.C = C\n",
        "\n",
        "  def __str__(self):\n",
        "    return '{}x + {}y + {} = 0'.format(self.A,self.B,self.C)\n",
        "\n",
        "  def point_on_line(line,point):\n",
        "    if line.A*point.x_cod + line.B*point.y_cod + line.C == 0:\n",
        "      return \"lies on the line\"\n",
        "    else:\n",
        "      return \"Does not lie on the line\"\n",
        "\n",
        "  def shortest_distance(line,point):\n",
        "    return abs(line.A*point.x_cod + line.B*point.y_cod + line.C)/(line.A**2 + line.B**2)**0.5\n"
      ]
    },
    {
      "cell_type": "code",
      "execution_count": 6,
      "metadata": {
        "colab": {
          "base_uri": "https://localhost:8080/"
        },
        "id": "z3QeFQu07dpO",
        "outputId": "0af4fec2-739e-42f5-fcb5-428f5ea425fe"
      },
      "outputs": [
        {
          "name": "stdout",
          "output_type": "stream",
          "text": [
            "1x + 1y + -2 = 0\n",
            "<1,10>\n"
          ]
        },
        {
          "data": {
            "text/plain": [
              "6.363961030678928"
            ]
          },
          "execution_count": 6,
          "metadata": {},
          "output_type": "execute_result"
        }
      ],
      "source": [
        "l1 = Line(1,1,-2)\n",
        "p1 = Point(1,10)\n",
        "print(l1)\n",
        "print(p1)\n",
        "\n",
        "# l1.point_on_line(p1)\n",
        "\n",
        "l1.shortest_distance(p1)"
      ]
    },
    {
      "cell_type": "markdown",
      "metadata": {
        "id": "s6n-PpwgfiMv"
      },
      "source": [
        "### How objects access attributes"
      ]
    },
    {
      "cell_type": "code",
      "execution_count": 20,
      "metadata": {
        "id": "XUwz5NX3fl3p"
      },
      "outputs": [],
      "source": [
        "class Person:\n",
        "\n",
        "  def __init__(self,name_input,country_input):\n",
        "    self.name = name_input\n",
        "    self.country = country_input\n",
        "\n",
        "  def greet(self):\n",
        "    if self.country == 'India':\n",
        "      print('Namaste',self.name)\n",
        "    else:\n",
        "      print('Hello',self.name)\n"
      ]
    },
    {
      "cell_type": "code",
      "execution_count": 21,
      "metadata": {
        "id": "Eb_wD7mkh-sK"
      },
      "outputs": [],
      "source": [
        "# how to access attributes\n",
        "p = Person('Anas','India')"
      ]
    },
    {
      "cell_type": "code",
      "execution_count": 22,
      "metadata": {
        "colab": {
          "base_uri": "https://localhost:8080/",
          "height": 36
        },
        "id": "R_zixc-yD2z8",
        "outputId": "18dcea56-fe39-4214-b3cc-483d2fb32ff2"
      },
      "outputs": [
        {
          "name": "stdout",
          "output_type": "stream",
          "text": [
            "Anas\n",
            "India\n"
          ]
        }
      ],
      "source": [
        "print(p.name)\n",
        "print(p.country)"
      ]
    },
    {
      "cell_type": "code",
      "execution_count": 23,
      "metadata": {
        "colab": {
          "base_uri": "https://localhost:8080/"
        },
        "id": "FVenvmOViFN5",
        "outputId": "e6638bef-33c0-46fb-dd70-5896e27d8b7f"
      },
      "outputs": [
        {
          "name": "stdout",
          "output_type": "stream",
          "text": [
            "Namaste Anas\n"
          ]
        }
      ],
      "source": [
        "# how to access methods\n",
        "p.greet()"
      ]
    },
    {
      "cell_type": "code",
      "execution_count": 24,
      "metadata": {
        "colab": {
          "base_uri": "https://localhost:8080/",
          "height": 187
        },
        "id": "LyBkKlAviG-x",
        "outputId": "66fd0bf4-9d2e-4d3b-d0fd-3d3593849d25"
      },
      "outputs": [
        {
          "ename": "AttributeError",
          "evalue": "'Person' object has no attribute 'gender'",
          "output_type": "error",
          "traceback": [
            "\u001b[31m---------------------------------------------------------------------------\u001b[39m",
            "\u001b[31mAttributeError\u001b[39m                            Traceback (most recent call last)",
            "\u001b[36mCell\u001b[39m\u001b[36m \u001b[39m\u001b[32mIn[24]\u001b[39m\u001b[32m, line 2\u001b[39m\n\u001b[32m      1\u001b[39m \u001b[38;5;66;03m# what if i try to access non-existent attributes\u001b[39;00m\n\u001b[32m----> \u001b[39m\u001b[32m2\u001b[39m \u001b[43mp\u001b[49m\u001b[43m.\u001b[49m\u001b[43mgender\u001b[49m\n",
            "\u001b[31mAttributeError\u001b[39m: 'Person' object has no attribute 'gender'"
          ]
        }
      ],
      "source": [
        "# what if i try to access non-existent attributes\n",
        "p.gender"
      ]
    },
    {
      "cell_type": "markdown",
      "metadata": {
        "id": "gFxMl3Gpfmq-"
      },
      "source": [
        "### Attribute creation from outside of the class"
      ]
    },
    {
      "cell_type": "code",
      "execution_count": 25,
      "metadata": {
        "id": "Ab2M4VwRfp6G"
      },
      "outputs": [],
      "source": [
        "p.gender = 'male'"
      ]
    },
    {
      "cell_type": "code",
      "execution_count": 26,
      "metadata": {
        "colab": {
          "base_uri": "https://localhost:8080/",
          "height": 36
        },
        "id": "YquKhn88NXEZ",
        "outputId": "2d07e3aa-14d3-4016-cba2-8de3ac9c1fa5"
      },
      "outputs": [
        {
          "data": {
            "text/plain": [
              "'male'"
            ]
          },
          "execution_count": 26,
          "metadata": {},
          "output_type": "execute_result"
        }
      ],
      "source": [
        "p.gender"
      ]
    },
    {
      "cell_type": "markdown",
      "metadata": {
        "id": "s26UEjp6fqjn"
      },
      "source": [
        "### Reference Variables\n",
        "\n",
        "- Reference variables hold the objects\n",
        "- We can create objects without reference variable as well\n",
        "- An object can have multiple reference variables\n",
        "- Assigning a new reference variable to an existing object does not create a new object"
      ]
    },
    {
      "cell_type": "code",
      "execution_count": null,
      "metadata": {
        "id": "FAoqeNdQfsrB"
      },
      "outputs": [],
      "source": [
        "# object without a reference\n",
        "class Person:\n",
        "\n",
        "  def __init__(self):\n",
        "    self.name = 'Anas'\n",
        "    self.gender = 'male'"
      ]
    },
    {
      "cell_type": "code",
      "execution_count": 32,
      "metadata": {},
      "outputs": [],
      "source": [
        "p= Person() # P contains the address of the object, we can also create without holding the object "
      ]
    },
    {
      "cell_type": "code",
      "execution_count": 33,
      "metadata": {},
      "outputs": [],
      "source": [
        "q = p"
      ]
    },
    {
      "cell_type": "code",
      "execution_count": 34,
      "metadata": {
        "colab": {
          "base_uri": "https://localhost:8080/"
        },
        "id": "oaJcQhkRfuGP",
        "outputId": "c0561a5e-f2d7-4e24-c8b1-5ec0a3a52372"
      },
      "outputs": [
        {
          "name": "stdout",
          "output_type": "stream",
          "text": [
            "1936637134608\n",
            "1936637134608\n"
          ]
        }
      ],
      "source": [
        "# Multiple ref\n",
        "print(id(p))\n",
        "print(id(q))"
      ]
    },
    {
      "cell_type": "code",
      "execution_count": null,
      "metadata": {
        "id": "Ycm-nWU6fscq"
      },
      "outputs": [],
      "source": [
        "# change attribute value with the help of 2nd object"
      ]
    },
    {
      "cell_type": "code",
      "execution_count": 35,
      "metadata": {
        "colab": {
          "base_uri": "https://localhost:8080/"
        },
        "id": "AtjSluqSfzqj",
        "outputId": "51460dab-fb58-4fe0-8280-f4befac9db5a"
      },
      "outputs": [
        {
          "name": "stdout",
          "output_type": "stream",
          "text": [
            "Anas\n",
            "Anas\n"
          ]
        }
      ],
      "source": [
        "print(p.name)\n",
        "print(q.name)"
      ]
    },
    {
      "cell_type": "code",
      "execution_count": null,
      "metadata": {},
      "outputs": [
        {
          "name": "stdout",
          "output_type": "stream",
          "text": [
            "Anas\n",
            "Anas\n",
            "Khan\n",
            "Khan\n"
          ]
        }
      ],
      "source": [
        "print(p.name)\n",
        "print(q.name)\n",
        "q.name=\"Khan\" #Thus be carefull while referencing the variables\n",
        "print(p.name)\n",
        "print(q.name) "
      ]
    },
    {
      "cell_type": "markdown",
      "metadata": {
        "id": "4nqDJqJvfukO"
      },
      "source": [
        "### Pass by reference"
      ]
    },
    {
      "cell_type": "code",
      "execution_count": 41,
      "metadata": {
        "colab": {
          "base_uri": "https://localhost:8080/"
        },
        "id": "noYvRkMmfwMl",
        "outputId": "2e61b55e-133c-4f15-9dc4-c29a416658d9"
      },
      "outputs": [
        {
          "name": "stdout",
          "output_type": "stream",
          "text": [
            "Hi my name is Anas and I am male\n",
            "Khan\n",
            "male\n"
          ]
        }
      ],
      "source": [
        "class Person:\n",
        "\n",
        "  def __init__(self,name,gender):\n",
        "    self.name = name\n",
        "    self.gender = gender\n",
        "\n",
        "\n",
        "\n",
        "# outside the class -> function\n",
        "def greet(person):\n",
        "  print(f'Hi my name is {person.name} and I am {person.gender}')\n",
        "  p1 = Person('Khan','male')\n",
        "  return p1\n",
        "\n",
        "p = Person('Anas','male')\n",
        "x= greet(p)\n",
        "print(x.name)\n",
        "print(x.gender)"
      ]
    },
    {
      "cell_type": "code",
      "execution_count": 46,
      "metadata": {
        "colab": {
          "base_uri": "https://localhost:8080/"
        },
        "id": "8ddbyX3hHryA",
        "outputId": "b902e987-9199-4637-c88c-ca5154bf31bb"
      },
      "outputs": [
        {
          "name": "stdout",
          "output_type": "stream",
          "text": [
            "Outside the function 1936638283792\n",
            "Khan\n",
            "1936638283792\n",
            "Anas\n",
            "Anas\n"
          ]
        }
      ],
      "source": [
        "class Person:\n",
        "\n",
        "  def __init__(self,name,gender):\n",
        "    self.name = name\n",
        "    self.gender = gender\n",
        "\n",
        "# outside the class -> function\n",
        "def greet(person):\n",
        "  print(person.name)\n",
        "  print(id(person))\n",
        "  person.name = 'Anas'\n",
        "  print(person.name)\n",
        "\n",
        "p = Person('Khan','male')\n",
        "print(\"Outside the function\",id(p))\n",
        "greet(p)\n",
        "print(p.name)"
      ]
    },
    {
      "cell_type": "markdown",
      "metadata": {
        "id": "gRNNs9_DFvud"
      },
      "source": [
        "### Object's mutability\n",
        "Objects are Mutable, But we can make them immutable"
      ]
    },
    {
      "cell_type": "code",
      "execution_count": 47,
      "metadata": {
        "colab": {
          "base_uri": "https://localhost:8080/"
        },
        "id": "GcBsQGR_Fy5E",
        "outputId": "e1048f8e-45c0-4ff0-8a2b-78578b81f23b"
      },
      "outputs": [
        {
          "name": "stdout",
          "output_type": "stream",
          "text": [
            "1936637759648\n",
            "1936637759648\n"
          ]
        }
      ],
      "source": [
        "class Person:\n",
        "\n",
        "  def __init__(self,name,gender):\n",
        "    self.name = name\n",
        "    self.gender = gender\n",
        "\n",
        "# outside the class -> function\n",
        "def greet(person):\n",
        "  person.name = 'Anas'\n",
        "  return person\n",
        "\n",
        "p = Person('Khan','male')\n",
        "print(id(p))\n",
        "p1 = greet(p)\n",
        "print(id(p1))"
      ]
    },
    {
      "cell_type": "markdown",
      "metadata": {
        "id": "A2Opzki1fw7x"
      },
      "source": [
        "### Encapsulation\n",
        "1. Private variables: __name, They cannot be access from outside the class. But even if someone sees the name of your private variable to change it from outside it wont happen becuase behind the seen the private variable name changes to (_ClassName__name). But in Python Nothing is truely private. We can hide i.e make them private the variables but in case if there is any need then we can change it from outside if necessary.\n",
        "\n",
        "Thus we have a concept of getter and setter, which helps to change the variables even when they are private\n",
        "\n",
        "Thus this whole process is called encapsulation. Showing the data with making it secure and private.\n",
        "\n",
        "Remember the example of senior and junior programmer"
      ]
    },
    {
      "cell_type": "code",
      "execution_count": null,
      "metadata": {
        "id": "yLRvYq47fyvp"
      },
      "outputs": [],
      "source": [
        "# instance var -> A variable whose value is different for different objects\n",
        "class Person:\n",
        "\n",
        "  def __init__(self,name_input,country_input):\n",
        "    self.name = name_input\n",
        "    self.country = country_input\n",
        "\n",
        "p1 = Person('anas','india')\n",
        "p2 = Person('steve','australia')"
      ]
    },
    {
      "cell_type": "code",
      "execution_count": 50,
      "metadata": {
        "colab": {
          "base_uri": "https://localhost:8080/",
          "height": 36
        },
        "id": "myBJr2T_KZmL",
        "outputId": "98f717d2-c600-43fa-c6ba-012f518d0490"
      },
      "outputs": [
        {
          "data": {
            "text/plain": [
              "'anas'"
            ]
          },
          "execution_count": 50,
          "metadata": {},
          "output_type": "execute_result"
        }
      ],
      "source": [
        "p1.name"
      ]
    },
    {
      "cell_type": "code",
      "execution_count": 53,
      "metadata": {
        "id": "HRV0i93nzBtZ"
      },
      "outputs": [],
      "source": [
        "class Atm:\n",
        "\n",
        "  # constructor(special function)->superpower ->\n",
        "  def __init__(self):\n",
        "    print(id(self))\n",
        "    self.pin = ''\n",
        "    self.__balance = 0\n",
        "    #self.menu()\n",
        "\n",
        "  def get_balance(self):\n",
        "    return self.__balance\n",
        "\n",
        "  def set_balance(self,new_value):\n",
        "    if type(new_value) == int:\n",
        "      self.__balance = new_value\n",
        "    else:\n",
        "      print('beta bahot maarenge')\n",
        "\n",
        "  def __menu(self):\n",
        "    user_input = input(\"\"\"\n",
        "    Hi how can I help you?\n",
        "    1. Press 1 to create pin\n",
        "    2. Press 2 to change pin\n",
        "    3. Press 3 to check balance\n",
        "    4. Press 4 to withdraw\n",
        "    5. Anything else to exit\n",
        "    \"\"\")\n",
        "\n",
        "    if user_input == '1':\n",
        "      self.create_pin()\n",
        "    elif user_input == '2':\n",
        "      self.change_pin()\n",
        "    elif user_input == '3':\n",
        "      self.check_balance()\n",
        "    elif user_input == '4':\n",
        "      self.withdraw()\n",
        "    else:\n",
        "      exit()\n",
        "\n",
        "  def create_pin(self):\n",
        "    user_pin = input('enter your pin')\n",
        "    self.pin = user_pin\n",
        "\n",
        "    user_balance = int(input('enter balance'))\n",
        "    self.__balance = user_balance\n",
        "\n",
        "    print('pin created successfully')\n",
        "\n",
        "  def change_pin(self):\n",
        "    old_pin = input('enter old pin')\n",
        "\n",
        "    if old_pin == self.pin:\n",
        "      # let him change the pin\n",
        "      new_pin = input('enter new pin')\n",
        "      self.pin = new_pin\n",
        "      print('pin change successful')\n",
        "    else:\n",
        "      print('nai karne de sakta re baba')\n",
        "\n",
        "  def check_balance(self):\n",
        "    user_pin = input('enter your pin')\n",
        "    if user_pin == self.pin:\n",
        "      print('your balance is ',self.__balance)\n",
        "    else:\n",
        "      print('chal nikal yahan se')\n",
        "\n",
        "  def withdraw(self):\n",
        "    user_pin = input('enter the pin')\n",
        "    if user_pin == self.pin:\n",
        "      # allow to withdraw\n",
        "      amount = int(input('enter the amount'))\n",
        "      if amount <= self.__balance:\n",
        "        self.__balance = self.__balance - amount\n",
        "        print('withdrawl successful.balance is',self.__balance)\n",
        "      else:\n",
        "        print('abe garib')\n",
        "    else:\n",
        "      print('sale chor')"
      ]
    },
    {
      "cell_type": "code",
      "execution_count": 54,
      "metadata": {
        "colab": {
          "base_uri": "https://localhost:8080/"
        },
        "id": "L_5IBTO_LaFO",
        "outputId": "f3e1ac11-942e-4324-b471-d5e9f295fa9c"
      },
      "outputs": [
        {
          "name": "stdout",
          "output_type": "stream",
          "text": [
            "1936637756816\n"
          ]
        }
      ],
      "source": [
        "obj = Atm()"
      ]
    },
    {
      "cell_type": "code",
      "execution_count": 60,
      "metadata": {
        "colab": {
          "base_uri": "https://localhost:8080/"
        },
        "id": "2k4gY5HlLtdE",
        "outputId": "c37806fc-228d-43ab-fa1c-3d3a021666b7"
      },
      "outputs": [
        {
          "data": {
            "text/plain": [
              "10000"
            ]
          },
          "execution_count": 60,
          "metadata": {},
          "output_type": "execute_result"
        }
      ],
      "source": [
        "obj.get_balance()"
      ]
    },
    {
      "cell_type": "code",
      "execution_count": 59,
      "metadata": {
        "id": "OEDXxBISQeH-"
      },
      "outputs": [],
      "source": [
        "obj.set_balance(10000)"
      ]
    },
    {
      "cell_type": "code",
      "execution_count": 57,
      "metadata": {},
      "outputs": [
        {
          "name": "stdout",
          "output_type": "stream",
          "text": [
            "beta bahot maarenge\n"
          ]
        }
      ],
      "source": [
        "obj.set_balance('heheh')"
      ]
    },
    {
      "cell_type": "code",
      "execution_count": 61,
      "metadata": {
        "colab": {
          "base_uri": "https://localhost:8080/",
          "height": 330
        },
        "id": "MIOrnSeLL4Gi",
        "outputId": "928252c3-ae3b-42ed-fe0c-11e1e6ed7b08"
      },
      "outputs": [
        {
          "name": "stdout",
          "output_type": "stream",
          "text": [
            "sale chor\n"
          ]
        }
      ],
      "source": [
        "obj.withdraw()"
      ]
    },
    {
      "cell_type": "markdown",
      "metadata": {
        "id": "2zN_yVYaf0_1"
      },
      "source": [
        "### Collection of objects"
      ]
    },
    {
      "cell_type": "code",
      "execution_count": null,
      "metadata": {
        "id": "UN7FByT3LZSX"
      },
      "outputs": [],
      "source": []
    },
    {
      "cell_type": "code",
      "execution_count": null,
      "metadata": {
        "colab": {
          "base_uri": "https://localhost:8080/"
        },
        "id": "VdP0aR6Qf4zp",
        "outputId": "72deb00b-deae-4536-da36-2bae44d2245c"
      },
      "outputs": [
        {
          "name": "stdout",
          "output_type": "stream",
          "text": [
            "Shahrukh male\n",
            "Salman male\n",
            "Katrina female\n"
          ]
        }
      ],
      "source": [
        "# list of objects\n",
        "class Person:\n",
        "\n",
        "  def __init__(self,name,gender):\n",
        "    self.name = name\n",
        "    self.gender = gender\n",
        "\n",
        "p1 = Person('Shahrukh','male')\n",
        "p2 = Person('Salman','male')\n",
        "p3 = Person('Katrina','female')\n",
        "\n",
        "L = [p1,p2,p3]\n",
        "\n",
        "# print(L)\n",
        "\n",
        "for i in L:\n",
        "  print(i.name,i.gender)"
      ]
    },
    {
      "cell_type": "code",
      "execution_count": 68,
      "metadata": {
        "colab": {
          "base_uri": "https://localhost:8080/"
        },
        "id": "uARXTZTCvt3M",
        "outputId": "18e100f5-07a5-43df-d0d9-482ce648f6f5"
      },
      "outputs": [
        {
          "name": "stdout",
          "output_type": "stream",
          "text": [
            "Shahrukh\n",
            "Salman\n",
            "Katrina\n"
          ]
        }
      ],
      "source": [
        "# dict of objects\n",
        "# list of objects\n",
        "class Person:\n",
        "\n",
        "  def __init__(self,name,gender):\n",
        "    self.name = name\n",
        "    self.gender = gender\n",
        "\n",
        "p1 = Person('Shahrukh','male')\n",
        "p2 = Person('Salman','male')\n",
        "p3 = Person('Katrina','female')\n",
        "\n",
        "d = {'p1':p1,'p2':p2,'p3':p3}\n",
        "\n",
        "for i in d:\n",
        "  # print(i)\n",
        "  print(d[i].name)"
      ]
    },
    {
      "cell_type": "markdown",
      "metadata": {
        "id": "TKdM9xIFf8Lt"
      },
      "source": [
        "### Static Variables(Vs Instance variables)\n",
        "Instance Variable object k liye hota hai\n",
        "Static Variable Class k liye hota hai.\n",
        "Static Variable ka value Saare Object k liye same hota hai\n",
        "Instance Variable ka value Saare Object k liye Alag hota hai"
      ]
    },
    {
      "cell_type": "code",
      "execution_count": null,
      "metadata": {
        "id": "yQakCFqbf-kB"
      },
      "outputs": [],
      "source": [
        "# need for static vars"
      ]
    },
    {
      "cell_type": "code",
      "execution_count": null,
      "metadata": {
        "id": "5HYjBHv9wZNm"
      },
      "outputs": [],
      "source": [
        "class Atm:\n",
        "\n",
        "  __counter = 1\n",
        "\n",
        "  # constructor(special function)->superpower ->\n",
        "  def __init__(self):\n",
        "    print(id(self))\n",
        "    self.pin = ''\n",
        "    self.__balance = 0\n",
        "    self.cid = Atm.__counter\n",
        "    Atm.__counter = Atm.__counter + 1\n",
        "    #self.menu()\n",
        "\n",
        "  # utility functions\n",
        "  # Yaha self recieve nhi karra hai thus we have to add decorater to call it with its class name\n",
        "  @staticmethod\n",
        "  def get_counter():\n",
        "    return Atm.__counter\n",
        "\n",
        "\n",
        "  def get_balance(self):\n",
        "    return self.__balance\n",
        "\n",
        "  def set_balance(self,new_value):\n",
        "    if type(new_value) == int:\n",
        "      self.__balance = new_value\n",
        "    else:\n",
        "      print('beta bahot maarenge')\n",
        "\n",
        "  def __menu(self):\n",
        "    user_input = input(\"\"\"\n",
        "    Hi how can I help you?\n",
        "    1. Press 1 to create pin\n",
        "    2. Press 2 to change pin\n",
        "    3. Press 3 to check balance\n",
        "    4. Press 4 to withdraw\n",
        "    5. Anything else to exit\n",
        "    \"\"\")\n",
        "\n",
        "    if user_input == '1':\n",
        "      self.create_pin()\n",
        "    elif user_input == '2':\n",
        "      self.change_pin()\n",
        "    elif user_input == '3':\n",
        "      self.check_balance()\n",
        "    elif user_input == '4':\n",
        "      self.withdraw()\n",
        "    else:\n",
        "      exit()\n",
        "\n",
        "  def create_pin(self):\n",
        "    user_pin = input('enter your pin')\n",
        "    self.pin = user_pin\n",
        "\n",
        "    user_balance = int(input('enter balance'))\n",
        "    self.__balance = user_balance\n",
        "\n",
        "    print('pin created successfully')\n",
        "\n",
        "  def change_pin(self):\n",
        "    old_pin = input('enter old pin')\n",
        "\n",
        "    if old_pin == self.pin:\n",
        "      # let him change the pin\n",
        "      new_pin = input('enter new pin')\n",
        "      self.pin = new_pin\n",
        "      print('pin change successful')\n",
        "    else:\n",
        "      print('nai karne de sakta re baba')\n",
        "\n",
        "  def check_balance(self):\n",
        "    user_pin = input('enter your pin')\n",
        "    if user_pin == self.pin:\n",
        "      print('your balance is ',self.__balance)\n",
        "    else:\n",
        "      print('chal nikal yahan se')\n",
        "\n",
        "  def withdraw(self):\n",
        "    user_pin = input('enter the pin')\n",
        "    if user_pin == self.pin:\n",
        "      # allow to withdraw\n",
        "      amount = int(input('enter the amount'))\n",
        "      if amount <= self.__balance:\n",
        "        self.__balance = self.__balance - amount\n",
        "        print('withdrawl successful.balance is',self.__balance)\n",
        "      else:\n",
        "        print('abe garib')\n",
        "    else:\n",
        "      print('sale chor')"
      ]
    },
    {
      "cell_type": "code",
      "execution_count": 83,
      "metadata": {
        "colab": {
          "base_uri": "https://localhost:8080/"
        },
        "id": "uafMrCPewZWY",
        "outputId": "b0c914a4-b08b-4aa0-ebcb-9f1b4bacd0ba"
      },
      "outputs": [
        {
          "name": "stdout",
          "output_type": "stream",
          "text": [
            "1936638443344\n"
          ]
        }
      ],
      "source": [
        "c1 = Atm()"
      ]
    },
    {
      "cell_type": "code",
      "execution_count": 84,
      "metadata": {
        "colab": {
          "base_uri": "https://localhost:8080/"
        },
        "id": "WiCrLBgGTseq",
        "outputId": "9019d462-0b46-4a9d-8837-6a3c31591ad4"
      },
      "outputs": [
        {
          "name": "stdout",
          "output_type": "stream",
          "text": [
            "1936636929488\n"
          ]
        }
      ],
      "source": [
        "c2 = Atm()"
      ]
    },
    {
      "cell_type": "code",
      "execution_count": 85,
      "metadata": {
        "colab": {
          "base_uri": "https://localhost:8080/"
        },
        "id": "YwPU4wRYTuoK",
        "outputId": "cb34a43c-1337-412f-c7ee-e6a2eccd9066"
      },
      "outputs": [
        {
          "data": {
            "text/plain": [
              "2"
            ]
          },
          "execution_count": 85,
          "metadata": {},
          "output_type": "execute_result"
        }
      ],
      "source": [
        "c2.cid"
      ]
    },
    {
      "cell_type": "code",
      "execution_count": 86,
      "metadata": {},
      "outputs": [
        {
          "name": "stdout",
          "output_type": "stream",
          "text": [
            "1936638590416\n"
          ]
        }
      ],
      "source": [
        "c3 = Atm()"
      ]
    },
    {
      "cell_type": "code",
      "execution_count": 87,
      "metadata": {},
      "outputs": [
        {
          "data": {
            "text/plain": [
              "3"
            ]
          },
          "execution_count": 87,
          "metadata": {},
          "output_type": "execute_result"
        }
      ],
      "source": [
        "c3.cid"
      ]
    },
    {
      "cell_type": "code",
      "execution_count": 88,
      "metadata": {},
      "outputs": [
        {
          "ename": "AttributeError",
          "evalue": "type object 'Atm' has no attribute '__counter'",
          "output_type": "error",
          "traceback": [
            "\u001b[31m---------------------------------------------------------------------------\u001b[39m",
            "\u001b[31mAttributeError\u001b[39m                            Traceback (most recent call last)",
            "\u001b[36mCell\u001b[39m\u001b[36m \u001b[39m\u001b[32mIn[88]\u001b[39m\u001b[32m, line 1\u001b[39m\n\u001b[32m----> \u001b[39m\u001b[32m1\u001b[39m \u001b[43mAtm\u001b[49m\u001b[43m.\u001b[49m\u001b[43m__counter\u001b[49m\n",
            "\u001b[31mAttributeError\u001b[39m: type object 'Atm' has no attribute '__counter'"
          ]
        }
      ],
      "source": [
        "Atm.__counter"
      ]
    },
    {
      "cell_type": "code",
      "execution_count": 90,
      "metadata": {
        "colab": {
          "base_uri": "https://localhost:8080/"
        },
        "id": "f35wRAlXwZa7",
        "outputId": "a7a897b2-8262-45b7-b83a-aad207ee102f"
      },
      "outputs": [
        {
          "data": {
            "text/plain": [
              "4"
            ]
          },
          "execution_count": 90,
          "metadata": {},
          "output_type": "execute_result"
        }
      ],
      "source": [
        "Atm.get_counter() #By Class name because static method because we dont need to create object for accessing this"
      ]
    },
    {
      "cell_type": "markdown",
      "metadata": {
        "id": "K9bxHyfBgC3Y"
      },
      "source": [
        "### Static methods"
      ]
    },
    {
      "cell_type": "markdown",
      "metadata": {
        "id": "Izqb_9FtwoIZ"
      },
      "source": [
        "##### Points to remember about static\n",
        "\n",
        "- Static attributes are created at class level.\n",
        "- Static attributes are accessed using ClassName.\n",
        "- Static attributes are object independent. We can access them without creating instance (object) of the class in which they are defined.\n",
        "- The value stored in static attribute is shared between all instances(objects) of the class in which the static attribute is defined."
      ]
    },
    {
      "cell_type": "code",
      "execution_count": null,
      "metadata": {
        "id": "3u0RdyaFwyaP"
      },
      "outputs": [
        {
          "name": "stdout",
          "output_type": "stream",
          "text": [
            "Simba drinks water from the well in the circus\n",
            "Water source of lions: well in the circus\n"
          ]
        }
      ],
      "source": [
        "class Lion:\n",
        "  __water_source=\"well in the circus\"\n",
        "\n",
        "  def __init__(self,name, gender):\n",
        "      self.__name=name\n",
        "      self.__gender=gender\n",
        "\n",
        "  def drinks_water(self):\n",
        "      print(self.__name,\"drinks water from the\",Lion.__water_source)\n",
        "\n",
        "  @staticmethod\n",
        "  def get_water_source():\n",
        "      return Lion.__water_source\n",
        "\n",
        "simba=Lion(\"Simba\",\"Male\")\n",
        "simba.drinks_water()\n",
        "print( \"Water source of lions:\",Lion.get_water_source())"
      ]
    },
    {
      "cell_type": "code",
      "execution_count": null,
      "metadata": {},
      "outputs": [],
      "source": []
    }
  ],
  "metadata": {
    "colab": {
      "provenance": []
    },
    "kernelspec": {
      "display_name": "Python 3",
      "name": "python3"
    },
    "language_info": {
      "codemirror_mode": {
        "name": "ipython",
        "version": 3
      },
      "file_extension": ".py",
      "mimetype": "text/x-python",
      "name": "python",
      "nbconvert_exporter": "python",
      "pygments_lexer": "ipython3",
      "version": "3.12.6"
    }
  },
  "nbformat": 4,
  "nbformat_minor": 0
}
