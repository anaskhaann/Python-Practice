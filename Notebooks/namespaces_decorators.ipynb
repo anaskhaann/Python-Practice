{
  "cells": [
    {
      "cell_type": "markdown",
      "metadata": {
        "id": "Xk9kpQFIwb4q"
      },
      "source": [
        "### Namespaces\n",
        "\n",
        "A namespace is a space that holds names(identifiers).Programmatically speaking, namespaces are dictionary of identifiers(keys) and their objects(values)\n",
        "\n",
        "There are 4 types of namespaces:\n",
        "- Builtin Namespace\n",
        "- Global Namespace\n",
        "- Enclosing Namespace\n",
        "- Local Namespace"
      ]
    },
    {
      "cell_type": "markdown",
      "metadata": {
        "id": "gwHLayLAz07u"
      },
      "source": [
        "### Scope and LEGB Rule\n",
        "Local -> Enclosing -> Global -> BuiltIn\n",
        "\n",
        "A scope is a textual region of a Python program where a namespace is directly accessible.\n",
        "\n",
        "The interpreter searches for a name from the inside out, looking in the local, enclosing, global, and finally the built-in scope. If the interpreter doesn’t find the name in any of these locations, then Python raises a NameError exception."
      ]
    },
    {
      "cell_type": "code",
      "execution_count": null,
      "metadata": {
        "colab": {
          "base_uri": "https://localhost:8080/"
        },
        "id": "je-pFfh12wH_",
        "outputId": "07ad3dca-cf87-4bf1-ce0a-5ec58cb17390"
      },
      "outputs": [],
      "source": [
        "# local and global\n",
        "# global var\n",
        "a = 2\n",
        "\n",
        "def temp():\n",
        "  # local var\n",
        "  b = 3\n",
        "  print(b)\n",
        "\n",
        "temp()\n",
        "print(a)"
      ]
    },
    {
      "cell_type": "code",
      "execution_count": null,
      "metadata": {
        "id": "j8yQ5lUr2yCq"
      },
      "outputs": [],
      "source": [
        "# local and global -> same name\n",
        "a = 2\n",
        "\n",
        "def temp():\n",
        "  # local var\n",
        "  a = 3\n",
        "  print(a)\n",
        "\n",
        "temp()\n",
        "print(a)"
      ]
    },
    {
      "cell_type": "code",
      "execution_count": null,
      "metadata": {
        "colab": {
          "base_uri": "https://localhost:8080/"
        },
        "id": "KGxD7YQS3We_",
        "outputId": "8e329d2f-7a9b-4516-d43e-02d293e882b9"
      },
      "outputs": [],
      "source": [
        "# local and global -> local does not have but global has\n",
        "a = 2\n",
        "\n",
        "def temp():\n",
        "  # local var\n",
        "  print(a)\n",
        "\n",
        "temp()\n",
        "print(a)\n"
      ]
    },
    {
      "cell_type": "code",
      "execution_count": null,
      "metadata": {
        "colab": {
          "base_uri": "https://localhost:8080/",
          "height": 348
        },
        "id": "ey9-FHzM21P_",
        "outputId": "fee2d260-f6e5-4db1-f7d7-52c829a41e4a"
      },
      "outputs": [],
      "source": [
        "# local and global -> editing global\n",
        "# Cannot edit global from local without global keyword\n",
        "a = 2\n",
        "\n",
        "def temp():\n",
        "  # local var\n",
        "  a += 1\n",
        "  print(a)\n",
        "\n",
        "temp()\n",
        "print(a)"
      ]
    },
    {
      "cell_type": "code",
      "execution_count": null,
      "metadata": {
        "colab": {
          "base_uri": "https://localhost:8080/"
        },
        "id": "F1FtV8ZLBNvy",
        "outputId": "4dd8a6e7-8cda-4652-c34c-f1b3b3b99f3b"
      },
      "outputs": [],
      "source": [
        "\"\"\"\n",
        "This is not a Good Practice to change the global from local\n",
        "\"\"\"\n",
        "a = 2\n",
        "\n",
        "def temp():\n",
        "  # local var\n",
        "  global a #This will help to change the global\n",
        "  a += 1\n",
        "  print(a)\n",
        "\n",
        "temp()\n",
        "print(a)"
      ]
    },
    {
      "cell_type": "code",
      "execution_count": 2,
      "metadata": {
        "id": "yDkgBLQu3JIw"
      },
      "outputs": [
        {
          "name": "stdout",
          "output_type": "stream",
          "text": [
            "1\n",
            "1\n"
          ]
        }
      ],
      "source": [
        "# local and global -> global created inside local\n",
        "def temp():\n",
        "  # local var\n",
        "  global a\n",
        "  a = 1\n",
        "  print(a)\n",
        "\n",
        "temp()\n",
        "print(a)"
      ]
    },
    {
      "cell_type": "code",
      "execution_count": 1,
      "metadata": {
        "colab": {
          "base_uri": "https://localhost:8080/",
          "height": 241
        },
        "id": "gWLr0xi024Or",
        "outputId": "744dd057-68f4-46f1-8f44-522eb5cf3521"
      },
      "outputs": [
        {
          "name": "stdout",
          "output_type": "stream",
          "text": [
            "5\n",
            "5\n"
          ]
        }
      ],
      "source": [
        "# local and global -> function parameter is local\n",
        "def temp(z):\n",
        "  # local var\n",
        "  print(z)\n",
        "\n",
        "a = 5\n",
        "temp(5)\n",
        "print(a)\n",
        "# print(z)"
      ]
    },
    {
      "cell_type": "code",
      "execution_count": 4,
      "metadata": {},
      "outputs": [
        {
          "name": "stdout",
          "output_type": "stream",
          "text": [
            "Hello World\n"
          ]
        }
      ],
      "source": [
        "# Print is the example of built in function\n",
        "print(\"Hello World\")"
      ]
    },
    {
      "cell_type": "code",
      "execution_count": null,
      "metadata": {
        "colab": {
          "base_uri": "https://localhost:8080/"
        },
        "id": "P7wHSji-3q-r",
        "outputId": "ff2f6d15-70a6-4972-b789-37eeac7082b1"
      },
      "outputs": [
        {
          "name": "stdout",
          "output_type": "stream",
          "text": [
            "ArithmeticError\n",
            "AssertionError\n",
            "AttributeError\n",
            "BaseException\n",
            "BaseExceptionGroup\n",
            "BlockingIOError\n",
            "BrokenPipeError\n",
            "BufferError\n",
            "BytesWarning\n",
            "ChildProcessError\n",
            "ConnectionAbortedError\n",
            "ConnectionError\n",
            "ConnectionRefusedError\n",
            "ConnectionResetError\n",
            "DeprecationWarning\n",
            "EOFError\n",
            "Ellipsis\n",
            "EncodingWarning\n",
            "EnvironmentError\n",
            "Exception\n",
            "ExceptionGroup\n",
            "False\n",
            "FileExistsError\n",
            "FileNotFoundError\n",
            "FloatingPointError\n",
            "FutureWarning\n",
            "GeneratorExit\n",
            "IOError\n",
            "ImportError\n",
            "ImportWarning\n",
            "IndentationError\n",
            "IndexError\n",
            "InterruptedError\n",
            "IsADirectoryError\n",
            "KeyError\n",
            "KeyboardInterrupt\n",
            "LookupError\n",
            "MemoryError\n",
            "ModuleNotFoundError\n",
            "NameError\n",
            "None\n",
            "NotADirectoryError\n",
            "NotImplemented\n",
            "NotImplementedError\n",
            "OSError\n",
            "OverflowError\n",
            "PendingDeprecationWarning\n",
            "PermissionError\n",
            "ProcessLookupError\n",
            "RecursionError\n",
            "ReferenceError\n",
            "ResourceWarning\n",
            "RuntimeError\n",
            "RuntimeWarning\n",
            "StopAsyncIteration\n",
            "StopIteration\n",
            "SyntaxError\n",
            "SyntaxWarning\n",
            "SystemError\n",
            "SystemExit\n",
            "TabError\n",
            "TimeoutError\n",
            "True\n",
            "TypeError\n",
            "UnboundLocalError\n",
            "UnicodeDecodeError\n",
            "UnicodeEncodeError\n",
            "UnicodeError\n",
            "UnicodeTranslateError\n",
            "UnicodeWarning\n",
            "UserWarning\n",
            "ValueError\n",
            "Warning\n",
            "WindowsError\n",
            "ZeroDivisionError\n",
            "__IPYTHON__\n",
            "__build_class__\n",
            "__debug__\n",
            "__doc__\n",
            "__import__\n",
            "__loader__\n",
            "__name__\n",
            "__package__\n",
            "__spec__\n",
            "abs\n",
            "aiter\n",
            "all\n",
            "anext\n",
            "any\n",
            "ascii\n",
            "bin\n",
            "bool\n",
            "breakpoint\n",
            "bytearray\n",
            "bytes\n",
            "callable\n",
            "chr\n",
            "classmethod\n",
            "compile\n",
            "complex\n",
            "copyright\n",
            "credits\n",
            "delattr\n",
            "dict\n",
            "dir\n",
            "display\n",
            "divmod\n",
            "enumerate\n",
            "eval\n",
            "exec\n",
            "execfile\n",
            "filter\n",
            "float\n",
            "format\n",
            "frozenset\n",
            "get_ipython\n",
            "getattr\n",
            "globals\n",
            "hasattr\n",
            "hash\n",
            "help\n",
            "hex\n",
            "id\n",
            "input\n",
            "int\n",
            "isinstance\n",
            "issubclass\n",
            "iter\n",
            "len\n",
            "license\n",
            "list\n",
            "locals\n",
            "map\n",
            "max\n",
            "memoryview\n",
            "min\n",
            "next\n",
            "object\n",
            "oct\n",
            "open\n",
            "ord\n",
            "pow\n",
            "print\n",
            "property\n",
            "range\n",
            "repr\n",
            "reversed\n",
            "round\n",
            "runfile\n",
            "set\n",
            "setattr\n",
            "slice\n",
            "sorted\n",
            "staticmethod\n",
            "str\n",
            "sum\n",
            "super\n",
            "tuple\n",
            "type\n",
            "vars\n",
            "zip\n"
          ]
        }
      ],
      "source": [
        "# built-in scope\n",
        "# how to see all the built-ins\n",
        "import builtins\n",
        "for i in dir(builtins):\n",
        "    print(i)"
      ]
    },
    {
      "cell_type": "code",
      "execution_count": null,
      "metadata": {
        "colab": {
          "base_uri": "https://localhost:8080/",
          "height": 241
        },
        "id": "Qd3fM_Ha3ruR",
        "outputId": "fb8b79d9-8b3a-483f-b1aa-b642832c1edd"
      },
      "outputs": [],
      "source": [
        "# renaming built-ins\n",
        "L = [1,2,3]\n",
        "print(max(L)) #this is built in and thus we get error because we have changed it below\n",
        "def max():\n",
        "  print('hello')\n",
        "\n",
        "print(max(L))"
      ]
    },
    {
      "cell_type": "code",
      "execution_count": null,
      "metadata": {
        "colab": {
          "base_uri": "https://localhost:8080/"
        },
        "id": "JORTYJik4LKH",
        "outputId": "1458570e-91b5-4533-d1be-2f89c4585c79"
      },
      "outputs": [
        {
          "name": "stdout",
          "output_type": "stream",
          "text": [
            "This is the Inner Function\n",
            "outer function\n",
            "main program\n"
          ]
        }
      ],
      "source": [
        "# Enclosing scope: Inside Nested Functions :aka Non Local\n",
        "def outer():\n",
        "  def inner():\n",
        "    print(\"This is the Inner Function\")\n",
        "    # print(a)\n",
        "  inner()\n",
        "  print('outer function')\n",
        "\n",
        "\n",
        "outer()\n",
        "print('main program')"
      ]
    },
    {
      "cell_type": "code",
      "execution_count": null,
      "metadata": {
        "colab": {
          "base_uri": "https://localhost:8080/"
        },
        "id": "mG6ONk3I4lFX",
        "outputId": "c989fa4d-0ffd-48bc-fedf-16afc53ca8fa"
      },
      "outputs": [],
      "source": [
        "# nonlocal keyword :To Change Enclosings\n",
        "def outer():\n",
        "  a = 1\n",
        "  def inner():\n",
        "    nonlocal a\n",
        "    a += 1\n",
        "    print('inner',a)\n",
        "  inner()\n",
        "  print('outer',a)\n",
        "\n",
        "\n",
        "outer()\n",
        "print('main program')"
      ]
    },
    {
      "attachments": {
        "image.png": {
          "image/png": "[encoded data removed]"
        }
      },
      "cell_type": "markdown",
      "metadata": {},
      "source": [
        "### Summary\n",
        "\n",
        "![image.png](attachment:image.png)"
      ]
    },
    {
      "cell_type": "markdown",
      "metadata": {
        "id": "v2I4_MetLUYb"
      },
      "source": [
        "### Decorators\n",
        "\n",
        "A decorator in python is a function that receives another function as input and adds some functionality(decoration) to and it and returns it.\n",
        "\n",
        "This can happen only because python functions are 1st class citizens.\n",
        "\n",
        "There are 2 types of decorators available in python\n",
        "- `Built in decorators` like `@staticmethod`, `@classmethod`, `@abstractmethod` and `@property` etc\n",
        "- `User defined decorators` that we programmers can create according to our needs"
      ]
    },
    {
      "cell_type": "code",
      "execution_count": null,
      "metadata": {
        "colab": {
          "base_uri": "https://localhost:8080/"
        },
        "id": "PLEnpaeHUvAk",
        "outputId": "86fe9ab7-3533-4ed2-cd65-f96e8941df74"
      },
      "outputs": [],
      "source": [
        "# Python are 1st class function\n",
        "\n",
        "def modify(func,num):\n",
        "  return func(num)\n",
        "\n",
        "def square(num):\n",
        "  return num**2\n",
        "\n",
        "modify(square,2)"
      ]
    },
    {
      "cell_type": "code",
      "execution_count": null,
      "metadata": {
        "colab": {
          "base_uri": "https://localhost:8080/"
        },
        "id": "fsyP9F9z5OSe",
        "outputId": "ec17ff47-2eaa-46e4-a6c7-0eb131ff488c"
      },
      "outputs": [],
      "source": [
        "# simple example\n",
        "\n",
        "def my_decorator(func):\n",
        "  def wrapper():\n",
        "    print('***********************')\n",
        "    func()\n",
        "    print('***********************')\n",
        "  return wrapper\n",
        "\n",
        "def hello():\n",
        "  print('hello')\n",
        "\n",
        "def display():\n",
        "  print('hello nitish')\n",
        "\n",
        "a = my_decorator(hello)\n",
        "a()\n",
        "\n",
        "b = my_decorator(display)\n",
        "b()"
      ]
    },
    {
      "cell_type": "code",
      "execution_count": null,
      "metadata": {
        "id": "3wh7a0paP4wv"
      },
      "outputs": [],
      "source": [
        "# more functions"
      ]
    },
    {
      "cell_type": "code",
      "execution_count": null,
      "metadata": {
        "id": "3rwgdym6UyV2"
      },
      "outputs": [],
      "source": [
        "# how this works -> closure?"
      ]
    },
    {
      "cell_type": "code",
      "execution_count": null,
      "metadata": {
        "id": "2JD6mQ7TNqRR"
      },
      "outputs": [],
      "source": [
        "# python tutor"
      ]
    },
    {
      "cell_type": "code",
      "execution_count": null,
      "metadata": {
        "colab": {
          "base_uri": "https://localhost:8080/"
        },
        "id": "6xenz10AVfTp",
        "outputId": "cb2e3d25-d951-49d5-ae36-62fff01bae68"
      },
      "outputs": [],
      "source": [
        "# Better syntax?\n",
        "# simple example\n",
        "\n",
        "def my_decorator(func):\n",
        "  def wrapper():\n",
        "    print('***********************')\n",
        "    func()\n",
        "    print('***********************')\n",
        "  return wrapper\n",
        "\n",
        "@my_decorator\n",
        "def hello():\n",
        "  print('hello')\n",
        "\n",
        "hello()"
      ]
    },
    {
      "cell_type": "code",
      "execution_count": null,
      "metadata": {
        "colab": {
          "base_uri": "https://localhost:8080/"
        },
        "id": "JGXuT9XSP3ue",
        "outputId": "0d9ce629-0d1e-4198-b9b4-95e21486adc8"
      },
      "outputs": [],
      "source": [
        "# anything meaningful?\n",
        "import time\n",
        "\n",
        "def timer(func):\n",
        "  def wrapper(*args):\n",
        "    start = time.time()\n",
        "    func(*args)\n",
        "    print('time taken by',func.__name__,time.time()-start,'secs')\n",
        "  return wrapper\n",
        "\n",
        "@timer\n",
        "def hello():\n",
        "  print('hello wolrd')\n",
        "  time.sleep(2)\n",
        "\n",
        "@timer\n",
        "def square(num):\n",
        "  time.sleep(1)\n",
        "  print(num**2)\n",
        "\n",
        "@timer\n",
        "def power(a,b):\n",
        "  print(a**b)\n",
        "\n",
        "hello()\n",
        "square(2)\n",
        "power(2,3)\n"
      ]
    },
    {
      "cell_type": "code",
      "execution_count": null,
      "metadata": {
        "id": "tF12z0_-VG8y"
      },
      "outputs": [],
      "source": [
        "# A big problem"
      ]
    },
    {
      "cell_type": "code",
      "execution_count": null,
      "metadata": {
        "id": "WDb2Cn_PQAA9"
      },
      "outputs": [],
      "source": [
        "# One last example -> decorators with arguments\n"
      ]
    },
    {
      "cell_type": "code",
      "execution_count": null,
      "metadata": {
        "id": "Ngoztw_GQEa9"
      },
      "outputs": [],
      "source": [
        "@checkdt(int)\n",
        "def square(num):\n",
        "  print(num**2)"
      ]
    },
    {
      "cell_type": "code",
      "execution_count": null,
      "metadata": {
        "colab": {
          "base_uri": "https://localhost:8080/"
        },
        "id": "hjjt65fYSri2",
        "outputId": "555806f0-a2b9-4f76-c5ec-6b91aaa76c34"
      },
      "outputs": [],
      "source": [
        "def sanity_check(data_type):\n",
        "  def outer_wrapper(func):\n",
        "    def inner_wrapper(*args):\n",
        "      if type(*args) == data_type:\n",
        "        func(*args)\n",
        "      else:\n",
        "        raise TypeError('Ye datatype nai chalega')\n",
        "    return inner_wrapper\n",
        "  return outer_wrapper\n",
        "\n",
        "@sanity_check(int)\n",
        "def square(num):\n",
        "  print(num**2)\n",
        "\n",
        "@sanity_check(str)\n",
        "def greet(name):\n",
        "  print('hello',name)\n",
        "\n",
        "square(2)"
      ]
    },
    {
      "cell_type": "code",
      "execution_count": null,
      "metadata": {
        "id": "Xn-HNkj0TXcx"
      },
      "outputs": [],
      "source": []
    },
    {
      "cell_type": "code",
      "execution_count": null,
      "metadata": {
        "id": "FB3Uky2BStKg"
      },
      "outputs": [],
      "source": []
    }
  ],
  "metadata": {
    "colab": {
      "provenance": []
    },
    "kernelspec": {
      "display_name": "Python 3",
      "name": "python3"
    },
    "language_info": {
      "codemirror_mode": {
        "name": "ipython",
        "version": 3
      },
      "file_extension": ".py",
      "mimetype": "text/x-python",
      "name": "python",
      "nbconvert_exporter": "python",
      "pygments_lexer": "ipython3",
      "version": "3.12.6"
    }
  },
  "nbformat": 4,
  "nbformat_minor": 0
}
