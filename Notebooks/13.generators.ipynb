{
 "cells": [
  {
   "cell_type": "markdown",
   "id": "420474c5",
   "metadata": {},
   "source": [
    "### What are generators\n",
    "\n",
    "Python Generators are simple,easy, efficient ways to create iterators.\n",
    "\n",
    "We know that in previous code we have to perform lot of things just to create a iterators.\n",
    "\n",
    "Thus generator helps us to make it easier.\n"
   ]
  },
  {
   "cell_type": "code",
   "execution_count": null,
   "id": "bb9f786b",
   "metadata": {},
   "outputs": [
    {
     "name": "stdout",
     "output_type": "stream",
     "text": [
      "85176\n",
      "48\n"
     ]
    }
   ],
   "source": [
    "# why we need iterators??\n",
    "# Answer\n",
    "import sys\n",
    "\n",
    "l = [x for x in range(10000)]\n",
    "print(sys.getsizeof(l))\n",
    "\n",
    "a = range(10000)\n",
    "print(sys.getsizeof(a))"
   ]
  },
  {
   "cell_type": "markdown",
   "id": "d1661e5a",
   "metadata": {},
   "source": [
    "Generators are Function in which there is no `return` keyword.\n",
    "\n",
    "In generators there is `yield` keyword.\n",
    "\n",
    "1. Generator is function with yield.\n",
    "\n",
    "2. When we call generator function it gives us generator object on which we can run `next` to access number of `yields` available in generator function.\n",
    "\n",
    "3. Generator Function will get executed when we run a loop on that generator object.\n",
    "\n",
    "4. Generator are special function which temporarily get pause, i.e which on execution does not get erased from memory instead they remember there state and value of variables which on loading the function again are usefull.\n"
   ]
  },
  {
   "cell_type": "code",
   "execution_count": 3,
   "id": "6392d250",
   "metadata": {},
   "outputs": [],
   "source": [
    "def gen_demo():\n",
    "\n",
    "    yield \"First Statement\"\n",
    "    yield \"Second Statement\"\n",
    "    yield \"Third Statement\""
   ]
  },
  {
   "cell_type": "code",
   "execution_count": 5,
   "id": "cb1d483d",
   "metadata": {},
   "outputs": [
    {
     "data": {
      "text/plain": [
       "<generator object gen_demo at 0x000002BCA60F85C0>"
      ]
     },
     "execution_count": 5,
     "metadata": {},
     "output_type": "execute_result"
    }
   ],
   "source": [
    "g = gen_demo() #Note: This wont get executed it will only give us generator object\n",
    "g"
   ]
  },
  {
   "cell_type": "code",
   "execution_count": 6,
   "id": "afb95832",
   "metadata": {},
   "outputs": [
    {
     "name": "stdout",
     "output_type": "stream",
     "text": [
      "First Statement\n"
     ]
    }
   ],
   "source": [
    "print(next(g))"
   ]
  },
  {
   "cell_type": "code",
   "execution_count": 7,
   "id": "49c5110a",
   "metadata": {},
   "outputs": [
    {
     "name": "stdout",
     "output_type": "stream",
     "text": [
      "Second Statement\n"
     ]
    }
   ],
   "source": [
    "print(next(g))"
   ]
  },
  {
   "cell_type": "code",
   "execution_count": 8,
   "id": "957321e9",
   "metadata": {},
   "outputs": [
    {
     "name": "stdout",
     "output_type": "stream",
     "text": [
      "Third Statement\n"
     ]
    }
   ],
   "source": [
    "print(next(g))"
   ]
  },
  {
   "cell_type": "code",
   "execution_count": 9,
   "id": "28c463b6",
   "metadata": {},
   "outputs": [
    {
     "ename": "StopIteration",
     "evalue": "",
     "output_type": "error",
     "traceback": [
      "\u001b[31m---------------------------------------------------------------------------\u001b[39m",
      "\u001b[31mStopIteration\u001b[39m                             Traceback (most recent call last)",
      "\u001b[36mCell\u001b[39m\u001b[36m \u001b[39m\u001b[32mIn[9]\u001b[39m\u001b[32m, line 1\u001b[39m\n\u001b[32m----> \u001b[39m\u001b[32m1\u001b[39m \u001b[38;5;28mprint\u001b[39m(\u001b[38;5;28;43mnext\u001b[39;49m\u001b[43m(\u001b[49m\u001b[43mg\u001b[49m\u001b[43m)\u001b[49m)\n",
      "\u001b[31mStopIteration\u001b[39m: "
     ]
    }
   ],
   "source": [
    "print(next(g))"
   ]
  },
  {
   "cell_type": "code",
   "execution_count": 11,
   "id": "37e68302",
   "metadata": {},
   "outputs": [
    {
     "name": "stdout",
     "output_type": "stream",
     "text": [
      "First Statement\n",
      "Second Statement\n",
      "Third Statement\n"
     ]
    }
   ],
   "source": [
    "# We can also do it using loops\n",
    "\n",
    "s = gen_demo()\n",
    "\n",
    "for i in s:\n",
    "    print(i)"
   ]
  },
  {
   "cell_type": "markdown",
   "id": "326e6512",
   "metadata": {},
   "source": [
    "### Yield Vs Return\n",
    "\n",
    "- `Yield`:\n",
    "\n",
    "  - It remembers till where we have executed/process.\n",
    "\n",
    "  - It temporary get pause and remember the value and state of variables.\n",
    "\n",
    "- `Return`:\n",
    "  - Return on the other hand gets erased from memory after execution.\n"
   ]
  },
  {
   "cell_type": "code",
   "execution_count": 14,
   "id": "38368bd8",
   "metadata": {},
   "outputs": [],
   "source": [
    "# example\n",
    "\n",
    "def square_all_num(num):\n",
    "    for i in range(1,num+1):\n",
    "        yield f\"{i} --> {i**2}\""
   ]
  },
  {
   "cell_type": "code",
   "execution_count": 16,
   "id": "e529cc27",
   "metadata": {},
   "outputs": [
    {
     "name": "stdout",
     "output_type": "stream",
     "text": [
      "1 --> 1\n",
      "2 --> 4\n",
      "3 --> 9\n",
      "The below loop starts from 4 because we have already use next above 3 times and this is the speciality of the generators they remember the state.\n",
      "4 --> 16\n",
      "5 --> 25\n",
      "6 --> 36\n",
      "7 --> 49\n",
      "8 --> 64\n",
      "9 --> 81\n",
      "10 --> 100\n"
     ]
    }
   ],
   "source": [
    "a = square_all_num(10)\n",
    "\n",
    "print(next(a))\n",
    "print(next(a))\n",
    "print(next(a))\n",
    "\n",
    "print(\"The below loop starts from 4 because we have already use next above 3 times and this is the speciality of the generators they remember the state.\")\n",
    "\n",
    "for i in a:\n",
    "    print(i)"
   ]
  },
  {
   "cell_type": "markdown",
   "id": "c2da697a",
   "metadata": {},
   "source": [
    "#### Range Function using generator\n"
   ]
  },
  {
   "cell_type": "code",
   "execution_count": 19,
   "id": "a58a00a6",
   "metadata": {},
   "outputs": [],
   "source": [
    "def mera_range(start,end):\n",
    "    for i in range(start, end):\n",
    "        yield i"
   ]
  },
  {
   "cell_type": "code",
   "execution_count": 23,
   "id": "74fb6173",
   "metadata": {},
   "outputs": [
    {
     "name": "stdout",
     "output_type": "stream",
     "text": [
      "10\n",
      "11\n",
      "12\n",
      "The below loop starts from 4 because we have already use next above 3 times and this is the speciality of the generators they remember the state.\n",
      "13\n",
      "14\n",
      "15\n",
      "16\n",
      "17\n",
      "18\n",
      "19\n",
      "20\n",
      "21\n"
     ]
    }
   ],
   "source": [
    "z = mera_range(10,22)\n",
    "\n",
    "print(next(z))\n",
    "print(next(z))\n",
    "print(next(z))\n",
    "\n",
    "print(\"The below loop starts from 4 because we have already use next above 3 times and this is the speciality of the generators they remember the state.\")\n",
    "\n",
    "for i in z:\n",
    "    print(i)"
   ]
  },
  {
   "cell_type": "markdown",
   "id": "f84b9142",
   "metadata": {},
   "source": [
    "### Generator Expression\n",
    "\n",
    "Similar to list comprehension.\n",
    "\n",
    "In this we just use `()` instead of `[]`.\n",
    "This will be generator\n"
   ]
  },
  {
   "cell_type": "code",
   "execution_count": null,
   "id": "6da36604",
   "metadata": {},
   "outputs": [
    {
     "name": "stdout",
     "output_type": "stream",
     "text": [
      "<class 'list'>\n"
     ]
    }
   ],
   "source": [
    "# List comprehension\n",
    "l = [x for x in range(1000)]\n",
    "print(type(l))"
   ]
  },
  {
   "cell_type": "code",
   "execution_count": null,
   "id": "6f45130e",
   "metadata": {},
   "outputs": [
    {
     "name": "stdout",
     "output_type": "stream",
     "text": [
      "<class 'generator'>\n"
     ]
    }
   ],
   "source": [
    "# Generator Expression\n",
    "g = (y for y in range(1000))\n",
    "print(type(g))"
   ]
  },
  {
   "cell_type": "markdown",
   "id": "991a69b6",
   "metadata": {},
   "source": [
    "#### Benefits of Generator\n",
    "\n",
    "1. Ease of Implementation\n",
    "\n",
    "2. Memory Efficient\n",
    "\n",
    "3. Representing infinite stream\n",
    "\n",
    "4. Chaining Generators\n"
   ]
  },
  {
   "cell_type": "code",
   "execution_count": null,
   "id": "333eb5b4",
   "metadata": {},
   "outputs": [
    {
     "name": "stdout",
     "output_type": "stream",
     "text": [
      "0\n",
      "2\n",
      "4\n",
      "6\n"
     ]
    }
   ],
   "source": [
    "# Representing infinite stream\n",
    "\n",
    "def all_even():\n",
    "    n=0\n",
    "    while True:\n",
    "        yield n\n",
    "        n+=2\n",
    "\n",
    "even_num_generator = all_even()\n",
    "\n",
    "print(next(even_num_generator))\n",
    "print(next(even_num_generator))\n",
    "print(next(even_num_generator))\n",
    "print(next(even_num_generator))"
   ]
  },
  {
   "cell_type": "code",
   "execution_count": 28,
   "id": "6d3bc6b1",
   "metadata": {},
   "outputs": [
    {
     "name": "stdout",
     "output_type": "stream",
     "text": [
      "8\n",
      "10\n",
      "12\n",
      "14\n",
      "16\n",
      "18\n",
      "20\n",
      "22\n",
      "24\n",
      "26\n"
     ]
    }
   ],
   "source": [
    "for i in range(10):\n",
    "    print(next(even_num_generator))"
   ]
  },
  {
   "cell_type": "code",
   "execution_count": 30,
   "id": "8654a088",
   "metadata": {},
   "outputs": [
    {
     "name": "stdout",
     "output_type": "stream",
     "text": [
      "4895\n"
     ]
    }
   ],
   "source": [
    "# Chaining Generators\n",
    "def fibonacci_numbers(nums):\n",
    "    x, y = 0, 1\n",
    "    for _ in range(nums):\n",
    "        x, y = y, x+y\n",
    "        yield x\n",
    "\n",
    "def square(nums):\n",
    "    for num in nums:\n",
    "        yield num**2\n",
    "\n",
    "print(sum(square(fibonacci_numbers(10))))\n"
   ]
  }
 ],
 "metadata": {
  "kernelspec": {
   "display_name": "Python 3",
   "language": "python",
   "name": "python3"
  },
  "language_info": {
   "codemirror_mode": {
    "name": "ipython",
    "version": 3
   },
   "file_extension": ".py",
   "mimetype": "text/x-python",
   "name": "python",
   "nbconvert_exporter": "python",
   "pygments_lexer": "ipython3",
   "version": "3.12.6"
  }
 },
 "nbformat": 4,
 "nbformat_minor": 5
}
